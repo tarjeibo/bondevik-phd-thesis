{
 "cells": [
  {
   "cell_type": "markdown",
   "metadata": {},
   "source": [
    "The goal of this Notebook is to compare the modelled $V_E$ and $V_{MIP}$ for a given oxygen vacancy conentration at the grain boundary core."
   ]
  },
  {
   "cell_type": "code",
   "execution_count": 1,
   "metadata": {
    "ExecuteTime": {
     "end_time": "2019-04-09T06:22:45.117006Z",
     "start_time": "2019-04-09T06:22:40.319526Z"
    }
   },
   "outputs": [],
   "source": [
    "#Importing libraries\n",
    "import numpy as np\n",
    "from cmath import sqrt\n",
    "from matplotlib import pyplot as plt\n",
    "\n",
    "#Physical constants\n",
    "kbeV = 8.617e-5\n",
    "epsilon_0 = 8.854e-12\n",
    "e = 1.6e-19\n",
    "\n",
    "#Material dependent constants\n",
    "epsilon_r = 75\n",
    "a_0 = 4.2e-10\n",
    "c_acc = 0.1\n",
    "c_acc_m3 = c_acc/a_0**3\n",
    "\n",
    "#Numerical parameters\n",
    "phi_0 = 0.1\n",
    "phi_0_iterator = 1e-3\n",
    "x_steps_scl = 1000\n",
    "\n",
    "#Experimental variables\n",
    "T = 500\n",
    "\n",
    "\n"
   ]
  },
  {
   "cell_type": "markdown",
   "metadata": {},
   "source": [
    "Setting the grain boundary core oxygen vacancy concentration, in units mol%:"
   ]
  },
  {
   "cell_type": "code",
   "execution_count": 2,
   "metadata": {
    "ExecuteTime": {
     "end_time": "2019-04-09T06:22:45.138008Z",
     "start_time": "2019-04-09T06:22:45.123006Z"
    }
   },
   "outputs": [],
   "source": [
    "c_vac_core = 1"
   ]
  },
  {
   "cell_type": "markdown",
   "metadata": {},
   "source": [
    "Defining the functions used to calculate $V_E$ and $V_{MIP}$."
   ]
  },
  {
   "cell_type": "code",
   "execution_count": 3,
   "metadata": {
    "ExecuteTime": {
     "end_time": "2019-04-09T06:22:45.183012Z",
     "start_time": "2019-04-09T06:22:45.151009Z"
    }
   },
   "outputs": [],
   "source": [
    "def get_scl_length(phi_0):\n",
    "    return sqrt((2*epsilon_0*epsilon_r*phi_0)/(e*c_acc_m3))\n",
    "\n",
    "def get_scl_charge(scl_length):\n",
    "    return (-2*c_acc*e*scl_length/a_0).real\n",
    "\n",
    "def get_core_charge():\n",
    "    return (2*e*c_vac_core/2)\n",
    "\n",
    "def get_phi_scl(phi_0):\n",
    "    scl_length = get_scl_length(phi_0)\n",
    "    x_range = np.linspace(0, scl_length, x_steps_scl)\n",
    "    phi_scl = phi_0*(x_range/scl_length - 1)**2\n",
    "    return x_range.real, phi_scl.real\n",
    "\n",
    "def get_c_vac_scl(phi_scl):\n",
    "    c_vac_bulk = c_acc/2\n",
    "    return c_vac_bulk*np.exp((-2*phi_scl)/(kbeV*T))\n",
    "\n",
    "def get_v_mip_core(c_vac_core):\n",
    "    v_mip_stoich = 15.1\n",
    "    f_el_Ba = 7.8\n",
    "    f_el_Zr = 3.4772\n",
    "    f_el_Y = 3.9802\n",
    "    f_el_O = 4.0992\n",
    "    f_el_stoich_sum = f_el_Ba + 0.9*f_el_Zr + 0.1*f_el_Y + 3*f_el_O\n",
    "    f_el_vacancy_sum = f_el_stoich_sum - c_vac_core*f_el_O\n",
    "    return v_mip_stoich*(f_el_vacancy_sum/f_el_stoich_sum - 1)"
   ]
  },
  {
   "cell_type": "code",
   "execution_count": 4,
   "metadata": {
    "ExecuteTime": {
     "end_time": "2019-04-09T06:22:45.926087Z",
     "start_time": "2019-04-09T06:22:45.189013Z"
    }
   },
   "outputs": [
    {
     "ename": "TypeError",
     "evalue": "lstsq() missing 2 required positional arguments: 'a' and 'b'",
     "output_type": "error",
     "traceback": [
      "\u001b[1;31m---------------------------------------------------------------------------\u001b[0m",
      "\u001b[1;31mTypeError\u001b[0m                                 Traceback (most recent call last)",
      "\u001b[1;32m<ipython-input-4-cbf937a0cdfa>\u001b[0m in \u001b[0;36m<module>\u001b[1;34m\u001b[0m\n\u001b[1;32m----> 1\u001b[1;33m \u001b[0mget_c_vac_scl\u001b[0m\u001b[1;33m(\u001b[0m\u001b[0mnp\u001b[0m\u001b[1;33m.\u001b[0m\u001b[0mlinalg\u001b[0m\u001b[1;33m.\u001b[0m\u001b[0mlstsq\u001b[0m\u001b[1;33m(\u001b[0m\u001b[1;33m)\u001b[0m\u001b[1;33m)\u001b[0m\u001b[1;33m\u001b[0m\u001b[0m\n\u001b[0m",
      "\u001b[1;31mTypeError\u001b[0m: lstsq() missing 2 required positional arguments: 'a' and 'b'"
     ]
    }
   ],
   "source": [
    "get_c_vac_scl(np.linalg.lstsq())"
   ]
  },
  {
   "cell_type": "markdown",
   "metadata": {},
   "source": [
    "Calculate and print the mean inner potential in the grain boundary core."
   ]
  },
  {
   "cell_type": "code",
   "execution_count": 5,
   "metadata": {
    "ExecuteTime": {
     "end_time": "2019-04-09T06:22:47.321226Z",
     "start_time": "2019-04-09T06:22:47.301224Z"
    }
   },
   "outputs": [
    {
     "name": "stdout",
     "output_type": "stream",
     "text": [
      "Mean inner potential at grain boundary core: -2.6200066878023796 V\n"
     ]
    }
   ],
   "source": [
    "v_mip_core = get_v_mip_core(c_vac_core)\n",
    "print(\"Mean inner potential at grain boundary core: \" + str(v_mip_core) + \" V\")"
   ]
  },
  {
   "cell_type": "markdown",
   "metadata": {},
   "source": [
    "Calculate the potential due to redistribution of free charge carriers ($V_E$) and the oxygen vacancy concentration in the space charge layers."
   ]
  },
  {
   "cell_type": "code",
   "execution_count": 6,
   "metadata": {
    "ExecuteTime": {
     "end_time": "2019-04-09T06:22:48.863380Z",
     "start_time": "2019-04-09T06:22:48.845379Z"
    }
   },
   "outputs": [],
   "source": [
    "core_charge = get_core_charge()\n",
    "scl_length = get_scl_length(phi_0)\n",
    "scl_charge = get_scl_charge(scl_length)\n",
    "\n",
    "while scl_charge + core_charge > 0:\n",
    "    phi_0 = phi_0 + phi_0_iterator\n",
    "    scl_length = get_scl_length(phi_0)\n",
    "    scl_charge = get_scl_charge(scl_length)\n",
    "\n",
    "x_range, phi_scl = get_phi_scl(phi_0)\n",
    "c_vac_scl = get_c_vac_scl(phi_scl)"
   ]
  },
  {
   "cell_type": "markdown",
   "metadata": {},
   "source": [
    "Plot the potential in the space charge layer"
   ]
  },
  {
   "cell_type": "code",
   "execution_count": 7,
   "metadata": {
    "ExecuteTime": {
     "end_time": "2019-04-09T06:22:51.251619Z",
     "start_time": "2019-04-09T06:22:50.205515Z"
    }
   },
   "outputs": [
    {
     "data": {
      "image/png": "[encoded data removed]",
      "text/plain": [
       "<Figure size 432x288 with 1 Axes>"
      ]
     },
     "metadata": {
      "needs_background": "light"
     },
     "output_type": "display_data"
    }
   ],
   "source": [
    "plt.plot(x_range, phi_scl, color=\"green\")\n",
    "plt.xlabel(\"x / m\")\n",
    "plt.ylabel(\"$V_E$ / V\")\n",
    "plt.show()"
   ]
  },
  {
   "cell_type": "markdown",
   "metadata": {},
   "source": [
    "Plot the oxygen vacancy concentration in the space charge layer"
   ]
  },
  {
   "cell_type": "code",
   "execution_count": 8,
   "metadata": {
    "ExecuteTime": {
     "end_time": "2019-04-09T06:22:52.903784Z",
     "start_time": "2019-04-09T06:22:52.238718Z"
    }
   },
   "outputs": [
    {
     "data": {
      "image/png": "[encoded data removed]",
      "text/plain": [
       "<Figure size 432x288 with 1 Axes>"
      ]
     },
     "metadata": {
      "needs_background": "light"
     },
     "output_type": "display_data"
    }
   ],
   "source": [
    "plt.plot(x_range, c_vac_scl, color=\"red\")\n",
    "plt.xlabel(\"x / m\")\n",
    "plt.ylabel(\"Oxygen vacancy concentration / mol%\")\n",
    "plt.yscale(\"log\")\n",
    "plt.show()"
   ]
  },
  {
   "cell_type": "code",
   "execution_count": null,
   "metadata": {
    "collapsed": true
   },
   "outputs": [],
   "source": []
  }
 ],
 "metadata": {
  "anaconda-cloud": {},
  "kernelspec": {
   "display_name": "Python 3",
   "language": "python",
   "name": "python3"
  },
  "language_info": {
   "codemirror_mode": {
    "name": "ipython",
    "version": 3
   },
   "file_extension": ".py",
   "mimetype": "text/x-python",
   "name": "python",
   "nbconvert_exporter": "python",
   "pygments_lexer": "ipython3",
   "version": "3.6.2"
  }
 },
 "nbformat": 4,
 "nbformat_minor": 1
}
