{
 "cells": [
  {
   "cell_type": "markdown",
   "metadata": {},
   "source": [
    "The goal of this Notebook is to show that a material will have a positive mean inner potential because its positive charge is highly concentrated at the nuclei."
   ]
  },
  {
   "cell_type": "code",
   "execution_count": 1,
   "metadata": {
    "collapsed": true
   },
   "outputs": [],
   "source": [
    "import numpy as np\n",
    "from matplotlib import pyplot as plt"
   ]
  },
  {
   "cell_type": "markdown",
   "metadata": {},
   "source": [
    "Define function to calculate the 1-dimensional charge density, where the nucleus has width $\\delta$, and the charge compensating electron cloud width $L$."
   ]
  },
  {
   "cell_type": "code",
   "execution_count": 2,
   "metadata": {
    "collapsed": true
   },
   "outputs": [],
   "source": [
    "def get_chg_list(delta, L, Q):\n",
    "    chg_list = np.zeros(n_steps)\n",
    "    q_pos = Q/(delta + 0.5)\n",
    "    q_neg = Q/L\n",
    "    chg_list.fill(-q_neg)\n",
    "    chg_list[L : L + 2*delta + 1] = q_pos\n",
    "    return chg_list"
   ]
  },
  {
   "cell_type": "markdown",
   "metadata": {},
   "source": [
    "Poisson's equation in one dimension is\n",
    "\n",
    "$V_E''(x) = -\\frac{Q(x)}{\\epsilon}$,\n",
    "\n",
    "where $V_E$ is the potential, $Q$ the charge and $\\epsilon$ the dielectric constant. \n",
    "\n",
    "For a numerical solution of Poisson's equation, the second derivate of $V_E$ can be approximated as\n",
    "\n",
    "$V_{E,i}''(x) \\approx \\frac{1}{h^2}\\left(-2V_{E,i}+ V_{E,i+1} + V_{E,i-1}\\right)$;\n",
    "\n",
    "the matrix $A$ defined below enables a $Ax = b$ matrix solution to Poisson's equation."
   ]
  },
  {
   "cell_type": "code",
   "execution_count": 3,
   "metadata": {
    "collapsed": true
   },
   "outputs": [],
   "source": [
    "def get_tridiagonal_matrix(chg_list):\n",
    "    dimension = len(chg_list)\n",
    "    A = np.zeros((dimension,dimension))\n",
    "    np.fill_diagonal(A, 2)\n",
    "    A[0, 1] = -1\n",
    "    A[dimension-1, dimension-2] = -1\n",
    "    for i in range(1, dimension-1):\n",
    "        A[i, i-1] = -1\n",
    "        A[i, i+1] = -1\n",
    "    return A"
   ]
  },
  {
   "cell_type": "markdown",
   "metadata": {},
   "source": [
    "Define the input parameters"
   ]
  },
  {
   "cell_type": "code",
   "execution_count": 4,
   "metadata": {},
   "outputs": [],
   "source": [
    "n_steps = 211 #should be odd number\n",
    "delta = 5\n",
    "L = n_steps//2 - delta\n",
    "Q = 1"
   ]
  },
  {
   "cell_type": "markdown",
   "metadata": {},
   "source": [
    "Get charge density and matrix $A$."
   ]
  },
  {
   "cell_type": "code",
   "execution_count": 5,
   "metadata": {
    "collapsed": true
   },
   "outputs": [],
   "source": [
    "chg_list = get_chg_list(delta, L, Q)\n",
    "A = get_tridiagonal_matrix(chg_list)"
   ]
  },
  {
   "cell_type": "markdown",
   "metadata": {},
   "source": [
    "Solve Poisson's equation as a $Ax=b$ system to obtain the potential"
   ]
  },
  {
   "cell_type": "code",
   "execution_count": 6,
   "metadata": {
    "collapsed": true
   },
   "outputs": [],
   "source": [
    "potential = np.linalg.solve(A, chg_list)"
   ]
  },
  {
   "cell_type": "markdown",
   "metadata": {},
   "source": [
    "Plot results"
   ]
  },
  {
   "cell_type": "code",
   "execution_count": 10,
   "metadata": {},
   "outputs": [
    {
     "data": {
      "image/png": "[encoded data removed]",
      "text/plain": [
       "<Figure size 432x288 with 1 Axes>"
      ]
     },
     "metadata": {
      "needs_background": "light"
     },
     "output_type": "display_data"
    }
   ],
   "source": [
    "x_range = np.linspace(-L, L, n_steps)\n",
    "chg_list_for_plt = chg_list\n",
    "plt.plot(x_range, chg_list_for_plt/max(chg_list_for_plt), label=\"Charge density\")\n",
    "plt.plot(x_range, potential/max(potential), color=\"green\", label=\"Potential\")\n",
    "plt.hlines(np.average(potential/max(potential)), min(x_range), max(x_range), color=\"green\", linestyle=\"dashed\", label=\"Mean potential\")\n",
    "plt.hlines(0, min(x_range), max(x_range), linestyle='dotted')\n",
    "plt.xlabel(\"x / step number\")\n",
    "plt.ylabel(\"Normalized units\")\n",
    "plt.legend(loc=\"best\")\n",
    "plt.show()"
   ]
  }
 ],
 "metadata": {
  "anaconda-cloud": {},
  "kernelspec": {
   "display_name": "Python 3",
   "language": "python",
   "name": "python3"
  },
  "language_info": {
   "codemirror_mode": {
    "name": "ipython",
    "version": 3
   },
   "file_extension": ".py",
   "mimetype": "text/x-python",
   "name": "python",
   "nbconvert_exporter": "python",
   "pygments_lexer": "ipython3",
   "version": "3.6.2"
  }
 },
 "nbformat": 4,
 "nbformat_minor": 1
}
