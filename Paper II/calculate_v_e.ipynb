{
 "cells": [
  {
   "cell_type": "markdown",
   "metadata": {
    "ExecuteTime": {
     "end_time": "2019-05-02T08:28:58.127841Z",
     "start_time": "2019-05-02T08:28:57.558786Z"
    }
   },
   "source": [
    "In this Notebook, we show how the potential due to redistribution of free charge carriers, $V_E$, can be calculated from a surface concentration of defects."
   ]
  },
  {
   "cell_type": "markdown",
   "metadata": {},
   "source": [
    "### Setting up the model\n",
    "\n",
    "First we import Python libraries and define three physical constants."
   ]
  },
  {
   "cell_type": "code",
   "execution_count": 13,
   "metadata": {
    "ExecuteTime": {
     "end_time": "2019-05-02T10:44:27.529978Z",
     "start_time": "2019-05-02T10:44:27.528978Z"
    }
   },
   "outputs": [],
   "source": [
    "#Import libraries\n",
    "import numpy as np\n",
    "from math import sqrt\n",
    "from matplotlib import pyplot as plt\n",
    "from scipy.integrate import solve_bvp"
   ]
  },
  {
   "cell_type": "code",
   "execution_count": 14,
   "metadata": {
    "ExecuteTime": {
     "end_time": "2019-05-02T10:44:27.816006Z",
     "start_time": "2019-05-02T10:44:27.811006Z"
    }
   },
   "outputs": [],
   "source": [
    "#Import code to solve Poisson's equation and plot the resulting potential\n",
    "from solve_poissons_equation import PoissonEquationBVPsolver, plot_potential"
   ]
  },
  {
   "cell_type": "code",
   "execution_count": 15,
   "metadata": {
    "ExecuteTime": {
     "end_time": "2019-05-02T10:44:28.073032Z",
     "start_time": "2019-05-02T10:44:28.064031Z"
    }
   },
   "outputs": [],
   "source": [
    "#Physical constants\n",
    "e = 1.6e-19 #Elementary charge\n",
    "kBev = 8.6173325e-5 #Boltzmann constant\n",
    "epsilon_0 = 8.854187817e-12 #Vacuum permittivity"
   ]
  },
  {
   "cell_type": "markdown",
   "metadata": {},
   "source": [
    "Below we define material dependent constants. Note that the proton concentration is set to zero due to the high vacuum conditions in the TEM column."
   ]
  },
  {
   "cell_type": "code",
   "execution_count": 16,
   "metadata": {
    "ExecuteTime": {
     "end_time": "2019-05-02T10:44:28.680093Z",
     "start_time": "2019-05-02T10:44:28.673092Z"
    }
   },
   "outputs": [],
   "source": [
    "#Material dependent constants\n",
    "epsilon_r = 75 #Dielectric constant\n",
    "T = 300 #Temperature\n",
    "c_acc = 0.1 #Acceptor doping concentration\n",
    "c_v_bulk = c_acc/2 #Oxygen vacancy concentration\n",
    "c_oh_bulk = 0 #Proton concentration\n",
    "lattice_parameter = 4.2e-10\n",
    "unit_cell_volume = lattice_parameter**3\n",
    "c_acc_per_m3 = c_acc/unit_cell_volume"
   ]
  },
  {
   "cell_type": "markdown",
   "metadata": {},
   "source": [
    "We also set numerical parameters for the modelling. 'phi_core' is the first initial guess of the potential at the GB interface ($V_E(0)$), and 'phi_core_iterator' is the incremental change in $V_E(0)$ for each iteration.\n",
    "\n",
    "$V_E(0)$ is changed until convergence is obtained with charge neutrality. Choosing a low value for \n",
    "'phi_core_iterator' will increase the accuracy, but also the time needed to reach convergence."
   ]
  },
  {
   "cell_type": "code",
   "execution_count": 17,
   "metadata": {
    "ExecuteTime": {
     "end_time": "2019-05-02T10:44:29.652982Z",
     "start_time": "2019-05-02T10:44:29.641981Z"
    }
   },
   "outputs": [],
   "source": [
    "#Numerical parameters\n",
    "phi_core = 0.01\n",
    "phi_core_iterator = 0.001"
   ]
  },
  {
   "cell_type": "markdown",
   "metadata": {},
   "source": [
    "### Barium vacancies"
   ]
  },
  {
   "cell_type": "markdown",
   "metadata": {},
   "source": [
    "Now we are ready to calculate and plot the potential, starting with barium vacancies.\n",
    "\n",
    "The surface concentrations are calculated by\n",
    "\n",
    "i) Summing the barium vacancy concentrations in all atomic planes in the GB core, per formula unit\n",
    "\n",
    "ii) Projecting the entire vacancy concentration from (i) into the GB interface plane, and assuming a (100) surface with area (4.2e-10)^2 per formula unit"
   ]
  },
  {
   "cell_type": "code",
   "execution_count": 18,
   "metadata": {
    "ExecuteTime": {
     "end_time": "2019-05-02T10:44:34.635589Z",
     "start_time": "2019-05-02T10:44:30.830889Z"
    }
   },
   "outputs": [],
   "source": [
    "c_barium_vacancies_per_area = 6.12e18\n",
    "core_charge = -2*e*c_barium_vacancies_per_area\n",
    "\n",
    "poisson_obj_v_ba = PoissonEquationBVPsolver(epsilon_r, c_v_bulk, c_oh_bulk, c_acc, T, unit_cell_volume, phi_core, core_charge, phi_core_iterator)"
   ]
  },
  {
   "cell_type": "code",
   "execution_count": 19,
   "metadata": {
    "ExecuteTime": {
     "end_time": "2019-05-02T10:44:34.949621Z",
     "start_time": "2019-05-02T10:44:34.640590Z"
    }
   },
   "outputs": [
    {
     "data": {
      "image/png": "[encoded data removed]",
      "text/plain": [
       "<Figure size 432x288 with 1 Axes>"
      ]
     },
     "metadata": {
      "needs_background": "light"
     },
     "output_type": "display_data"
    }
   ],
   "source": [
    "plot_potential(poisson_obj_v_ba, \"v_Ba\")\n",
    "plt.show()"
   ]
  },
  {
   "cell_type": "markdown",
   "metadata": {},
   "source": [
    "### Yttrium on the zirconium site"
   ]
  },
  {
   "cell_type": "markdown",
   "metadata": {},
   "source": [
    "Let us do the similar exercise with yttrium on the zirconium site"
   ]
  },
  {
   "cell_type": "code",
   "execution_count": 20,
   "metadata": {
    "ExecuteTime": {
     "end_time": "2019-05-02T10:44:37.115004Z",
     "start_time": "2019-05-02T10:44:34.952621Z"
    }
   },
   "outputs": [
    {
     "data": {
      "image/png": "[encoded data removed]",
      "text/plain": [
       "<Figure size 432x288 with 1 Axes>"
      ]
     },
     "metadata": {
      "needs_background": "light"
     },
     "output_type": "display_data"
    }
   ],
   "source": [
    "excess_yttrium_doping_per_area = 3.41e18\n",
    "core_charge = -e*excess_yttrium_doping_per_area\n",
    "\n",
    "poisson_obj_y_zr = PoissonEquationBVPsolver(epsilon_r, c_v_bulk, c_oh_bulk, c_acc, T, unit_cell_volume, phi_core, core_charge, phi_core_iterator)\n",
    "\n",
    "plot_potential(poisson_obj_y_zr, \"Y_Zr\")\n",
    "plt.show()"
   ]
  },
  {
   "cell_type": "markdown",
   "metadata": {},
   "source": [
    "### Yttrium on the barium site"
   ]
  },
  {
   "cell_type": "markdown",
   "metadata": {},
   "source": [
    "And similarly, with yttrium on the barium site"
   ]
  },
  {
   "cell_type": "code",
   "execution_count": 21,
   "metadata": {
    "ExecuteTime": {
     "end_time": "2019-05-02T10:44:45.765328Z",
     "start_time": "2019-05-02T10:44:37.115004Z"
    }
   },
   "outputs": [
    {
     "data": {
      "image/png": "[encoded data removed]",
      "text/plain": [
       "<Figure size 432x288 with 1 Axes>"
      ]
     },
     "metadata": {
      "needs_background": "light"
     },
     "output_type": "display_data"
    }
   ],
   "source": [
    "excess_yttrium_doping_per_area = 3.41e18\n",
    "core_charge = e*excess_yttrium_doping_per_area\n",
    "\n",
    "poisson_obj_y_ba = PoissonEquationBVPsolver(epsilon_r, c_v_bulk, c_oh_bulk, c_acc, T, unit_cell_volume, phi_core, core_charge, phi_core_iterator)\n",
    "\n",
    "plot_potential(poisson_obj_y_ba, \"Y_Zr\")\n",
    "plt.show()"
   ]
  },
  {
   "cell_type": "markdown",
   "metadata": {},
   "source": [
    "### Comparison between defects"
   ]
  },
  {
   "cell_type": "markdown",
   "metadata": {},
   "source": [
    "Finally, let us compare the three defects in the same plot."
   ]
  },
  {
   "cell_type": "code",
   "execution_count": 22,
   "metadata": {
    "ExecuteTime": {
     "end_time": "2019-05-02T10:44:46.199372Z",
     "start_time": "2019-05-02T10:44:45.769329Z"
    }
   },
   "outputs": [
    {
     "data": {
      "image/png": "[encoded data removed]",
      "text/plain": [
       "<Figure size 432x288 with 1 Axes>"
      ]
     },
     "metadata": {
      "needs_background": "light"
     },
     "output_type": "display_data"
    }
   ],
   "source": [
    "plot_potential(poisson_obj_v_ba, \"v_Ba\")\n",
    "plot_potential(poisson_obj_y_zr, \"Y_Zr\")\n",
    "plot_potential(poisson_obj_y_ba, \"Y_Ba\")\n",
    "plt.show()"
   ]
  },
  {
   "cell_type": "code",
   "execution_count": null,
   "metadata": {},
   "outputs": [],
   "source": []
  }
 ],
 "metadata": {
  "kernelspec": {
   "display_name": "Python 3",
   "language": "python",
   "name": "python3"
  },
  "language_info": {
   "codemirror_mode": {
    "name": "ipython",
    "version": 3
   },
   "file_extension": ".py",
   "mimetype": "text/x-python",
   "name": "python",
   "nbconvert_exporter": "python",
   "pygments_lexer": "ipython3",
   "version": "3.6.2"
  }
 },
 "nbformat": 4,
 "nbformat_minor": 2
}
